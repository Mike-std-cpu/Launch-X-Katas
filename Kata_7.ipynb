{
 "cells": [
  {
   "cell_type": "markdown",
   "metadata": {},
   "source": [
    "# Kata del Modulo 6🐍"
   ]
  },
  {
   "cell_type": "markdown",
   "metadata": {},
   "source": [
    "### Problema 1:  \n",
    "#### Uso de ciclos while en Python"
   ]
  },
  {
   "cell_type": "markdown",
   "metadata": {},
   "source": [
    "##### En este ejercicio, estás creando una aplicación que solicita a un usuario que ingrese una lista de planetas. En un ejercicio posterior, agregarás código que muestre la lista."
   ]
  },
  {
   "cell_type": "code",
   "execution_count": 5,
   "metadata": {},
   "outputs": [
    {
     "name": "stdout",
     "output_type": "stream",
     "text": [
      "This is your planets: ['Mercury', 'Venus', 'Earth', 'Saturn', 'Neptune']\n"
     ]
    }
   ],
   "source": [
    "#Se declara la lista y la variable de entrada\n",
    "user_keyboard = ''\n",
    "planets = []\n",
    "\n",
    "#Creamos nuestro ciclo while con nuestra condicion de ingreso de datos\n",
    "while user_keyboard.lower() != 'done':\n",
    "    # Verificamos si hay un valor en user_input\n",
    "    if user_keyboard:\n",
    "        # Almacenamos ese valor en la lista\n",
    "        planets.append(user_keyboard)\n",
    "    # Capturamos un nuevo valor\n",
    "    user_keyboard = input('Enter a Planet, or if you want, tipe done when done')\n",
    "print(\"This is your planets: \" + str(planets)) #Imprime el contenido de la lista."
   ]
  },
  {
   "cell_type": "markdown",
   "metadata": {},
   "source": [
    "### Problema 2:  \n",
    "#### Creacion de un cilco for\n",
    "En el ejercicio anterior, creaste código para solicitar a los usuarios que introduzcan una lista de nombres de planetas. En este ejercicio, completarás la aplicación escribiendo código que muestre los nombres de esos planetas."
   ]
  },
  {
   "cell_type": "code",
   "execution_count": 14,
   "metadata": {},
   "outputs": [
    {
     "name": "stdout",
     "output_type": "stream",
     "text": [
      "This is your planets: \n",
      "Name : Mercury | Number: 0\n",
      "Name : Venus | Number: 1\n",
      "Name : Earth | Number: 2\n",
      "Name : Saturn | Number: 3\n",
      "Name : Neptune | Number: 4\n"
     ]
    }
   ],
   "source": [
    "# Este seria otro metodo de muestra de planetas usando cilcos for\n",
    "print(\"This is your planets: \")\n",
    "for planet in planets:\n",
    "    print(\"Name : \" + str(planet) + \" | Number: \" + str(planets.index(planet)))"
   ]
  }
 ],
 "metadata": {
  "interpreter": {
   "hash": "eb14761e0068f033b352e530f1e06e7cf747d416fb2ca4c3be349f98ba7a5a83"
  },
  "kernelspec": {
   "display_name": "Python 3.10.0 64-bit",
   "language": "python",
   "name": "python3"
  },
  "language_info": {
   "codemirror_mode": {
    "name": "ipython",
    "version": 3
   },
   "file_extension": ".py",
   "mimetype": "text/x-python",
   "name": "python",
   "nbconvert_exporter": "python",
   "pygments_lexer": "ipython3",
   "version": "3.10.0"
  },
  "orig_nbformat": 4
 },
 "nbformat": 4,
 "nbformat_minor": 2
}
