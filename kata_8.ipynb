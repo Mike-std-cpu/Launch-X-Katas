{
 "cells": [
  {
   "cell_type": "markdown",
   "metadata": {},
   "source": [
    "# Kata del Modulo 8🐍"
   ]
  },
  {
   "cell_type": "markdown",
   "metadata": {},
   "source": [
    "### Problema 1:  \n",
    "#### Crear y modificar un diccionario de Python\n",
    "Para este ejercicio, crearás un diccionario que almacene información sobre el planeta Marte.\n",
    "Agrega el código para crear un nuevo diccionario denominado 'planet'. Rellena con la siguiente información:\n",
    "> Name: Mars y Moons: 2"
   ]
  },
  {
   "cell_type": "code",
   "execution_count": 1,
   "metadata": {},
   "outputs": [],
   "source": [
    "planet = {\n",
    "    'name': 'Mars',\n",
    "    'moons': 2\n",
    "}"
   ]
  },
  {
   "cell_type": "markdown",
   "metadata": {},
   "source": [
    "- Para recuperar valores, puede utilizar el método get o corchetes ([ ]) con el nombre de la clave que desea recuperar.\n",
    "- Agrega un nuevo valor con una clave de 'circunferencia (km)'. Este nuevo valor debería almacenar un diccionario con las dos circunferencias del planeta:\n",
    "> Polar: 6752 y Equatorial: 6792\n",
    "- Posterior imprime el nombre del planeta con los nuevos datos."
   ]
  },
  {
   "cell_type": "code",
   "execution_count": 16,
   "metadata": {},
   "outputs": [
    {
     "name": "stdout",
     "output_type": "stream",
     "text": [
      "Nombre del planeta: Mars con 2 lunas\n",
      "Actualziacion...\n",
      "Nombre del planeta: Mars con 2 lunas y una circunferencia polar de 6752\n"
     ]
    }
   ],
   "source": [
    "print(\"Nombre del planeta: \" + planet['name'] + \" con \" + str(planet['moons']) + \" lunas\")#Recuperamos el name\n",
    "\n",
    "#Agregar valor circunferencia\n",
    "planet['circunferencia (km)'] = {\n",
    "    'polar' : 6752,\n",
    "    'equatorial' : 6792\n",
    "} # Se insertara el diccionario con sus respectivos contenidos\n",
    "\n",
    "print(\"Actualziacion...\")\n",
    "print(f'Nombre del planeta: {planet[\"name\"]} con {planet[\"moons\"]} lunas y una circunferencia polar de {planet[\"circunferencia (km)\"][\"polar\"]}')"
   ]
  }
 ],
 "metadata": {
  "interpreter": {
   "hash": "eb14761e0068f033b352e530f1e06e7cf747d416fb2ca4c3be349f98ba7a5a83"
  },
  "kernelspec": {
   "display_name": "Python 3.10.0 64-bit",
   "language": "python",
   "name": "python3"
  },
  "language_info": {
   "codemirror_mode": {
    "name": "ipython",
    "version": 3
   },
   "file_extension": ".py",
   "mimetype": "text/x-python",
   "name": "python",
   "nbconvert_exporter": "python",
   "pygments_lexer": "ipython3",
   "version": "3.10.0"
  },
  "orig_nbformat": 4
 },
 "nbformat": 4,
 "nbformat_minor": 2
}
