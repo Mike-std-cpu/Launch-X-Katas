{
 "cells": [
  {
   "cell_type": "markdown",
   "metadata": {},
   "source": [
    "# Kata del Modulo 8🐍"
   ]
  },
  {
   "cell_type": "markdown",
   "metadata": {},
   "source": [
    "### Problema 1:  \n",
    "#### Crear y modificar un diccionario de Python\n",
    "Para este ejercicio, crearás un diccionario que almacene información sobre el planeta Marte.\n",
    "Agrega el código para crear un nuevo diccionario denominado 'planet'. Rellena con la siguiente información:\n",
    "> Name: Mars y Moons: 2"
   ]
  },
  {
   "cell_type": "code",
   "execution_count": 1,
   "metadata": {},
   "outputs": [],
   "source": [
    "planet = {\n",
    "    'name': 'Mars',\n",
    "    'moons': 2\n",
    "}"
   ]
  },
  {
   "cell_type": "markdown",
   "metadata": {},
   "source": [
    "- Para recuperar valores, puede utilizar el método get o corchetes ([ ]) con el nombre de la clave que desea recuperar.\n",
    "- Agrega un nuevo valor con una clave de 'circunferencia (km)'. Este nuevo valor debería almacenar un diccionario con las dos circunferencias del planeta:\n",
    "> Polar: 6752 y Equatorial: 6792\n",
    "- Posterior imprime el nombre del planeta con los nuevos datos."
   ]
  },
  {
   "cell_type": "markdown",
   "metadata": {},
   "source": [
    "#### Solucion: 🏴"
   ]
  },
  {
   "cell_type": "code",
   "execution_count": 16,
   "metadata": {},
   "outputs": [
    {
     "name": "stdout",
     "output_type": "stream",
     "text": [
      "Nombre del planeta: Mars con 2 lunas\n",
      "Actualziacion...\n",
      "Nombre del planeta: Mars con 2 lunas y una circunferencia polar de 6752\n"
     ]
    }
   ],
   "source": [
    "print(\"Nombre del planeta: \" + planet['name'] + \" con \" + str(planet['moons']) + \" lunas\")#Recuperamos el name\n",
    "\n",
    "#Agregar valor circunferencia\n",
    "planet['circunferencia (km)'] = {\n",
    "    'polar' : 6752,\n",
    "    'equatorial' : 6792\n",
    "} # Se insertara el diccionario con sus respectivos contenidos\n",
    "\n",
    "print(\"Actualziacion...\")\n",
    "print(f'Nombre del planeta: {planet[\"name\"]} con {planet[\"moons\"]} lunas y una circunferencia polar de {planet[\"circunferencia (km)\"][\"polar\"]}')"
   ]
  },
  {
   "cell_type": "markdown",
   "metadata": {},
   "source": [
    "### Problema 2:  \n",
    "#### Cálculo de valores con programación dinámica con diccionarios\n",
    "En este escenario, calcularás tanto el número total de lunas en el sistema solar como el número promedio de lunas que tiene un planeta."
   ]
  },
  {
   "cell_type": "code",
   "execution_count": 17,
   "metadata": {},
   "outputs": [],
   "source": [
    "planet_moons = {\n",
    "    'mercury': 0,\n",
    "    'venus': 0,\n",
    "    'earth': 1,\n",
    "    'mars': 2,\n",
    "    'jupiter': 79,\n",
    "    'saturn': 82,\n",
    "    'uranus': 27,\n",
    "    'neptune': 14,\n",
    "    'pluto': 5,\n",
    "    'haumea': 2,\n",
    "    'makemake': 1,\n",
    "    'eris': 1\n",
    "}"
   ]
  },
  {
   "cell_type": "markdown",
   "metadata": {},
   "source": [
    "- Agrega el código a continuación para determinar el número de lunas. Comienza almacenando el valor values de planet_moons en una variable denominada moons. A continuación, almacena el número de planetas en una variable denominada planets.\n",
    "- Agrega el código para contar el número de lunas. Puedes hacerlo creando un ciclo for para iterar a través de las lunas moons y agregándolos a una variable denominada total_moons. Finalmente calcule el promedio dividiendo total_moons por planets e imprimiendo los resultados.\n",
    "#### Solucion: 🏴"
   ]
  },
  {
   "cell_type": "code",
   "execution_count": 26,
   "metadata": {},
   "outputs": [
    {
     "name": "stdout",
     "output_type": "stream",
     "text": [
      "Total de lunas encontradas:  214 de los : 12 planetas encontrados\n",
      "El promedio es: 17.833333333333332\n"
     ]
    }
   ],
   "source": [
    "#Numero de lunas\n",
    "moons = planet_moons.values()# Nos ira gurdando los valores de las lunas en una variable moons\n",
    "# Obtenemos el total de planetas\n",
    "planets = len(planet_moons.keys()) # Se irean guardando en la variable planets\n",
    "#Keys nos servira para clasificar los valores de la luna y len para contabilizarlas\n",
    "\n",
    "# Contaremos el numero de lunas\n",
    "total_moons = 0 #La inicializamos con 0\n",
    "for moon in moons:\n",
    "    total_moons = total_moons + moon # Se iran sumando  los valores de las lunas\n",
    "print(f'Total de lunas encontradas:  {total_moons} de los : {planets} planetas encontrados')\n",
    "average = total_moons / planets #Calculamos el promedio dividiendo por la cantidad de planetas\n",
    "print(f'El promedio es: {average}') # imprime el promedio"
   ]
  }
 ],
 "metadata": {
  "interpreter": {
   "hash": "eb14761e0068f033b352e530f1e06e7cf747d416fb2ca4c3be349f98ba7a5a83"
  },
  "kernelspec": {
   "display_name": "Python 3.10.0 64-bit",
   "language": "python",
   "name": "python3"
  },
  "language_info": {
   "codemirror_mode": {
    "name": "ipython",
    "version": 3
   },
   "file_extension": ".py",
   "mimetype": "text/x-python",
   "name": "python",
   "nbconvert_exporter": "python",
   "pygments_lexer": "ipython3",
   "version": "3.10.0"
  },
  "orig_nbformat": 4
 },
 "nbformat": 4,
 "nbformat_minor": 2
}
