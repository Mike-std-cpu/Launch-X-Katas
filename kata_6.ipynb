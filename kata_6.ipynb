{
 "cells": [
  {
   "cell_type": "markdown",
   "metadata": {},
   "source": [
    "# Kata del Modulo 6🐍"
   ]
  },
  {
   "cell_type": "markdown",
   "metadata": {},
   "source": [
    "### Problema 1:  \n",
    "Ejercicio: Usar listas para almacenar nombres de planetas"
   ]
  },
  {
   "cell_type": "markdown",
   "metadata": {},
   "source": [
    "Comenzarás un proyecto sobre información planetaria creando una lista de planetas.\n",
    "- En primer lugar, crea una variable denominada planets. Agrega los ocho planetas (sin Plutón) a la lista. A continuación, muestra el número de planetas.\n",
    "- Agrega a Plutón a la lista que creaste. Luego muestra tanto el número de planetas como el último planeta de la lista."
   ]
  },
  {
   "cell_type": "markdown",
   "metadata": {},
   "source": [
    "#### Solucion: 🏴"
   ]
  },
  {
   "cell_type": "code",
   "execution_count": 1,
   "metadata": {},
   "outputs": [
    {
     "name": "stdout",
     "output_type": "stream",
     "text": [
      "There are actually 9 planets in the solar system.\n",
      "Pluto\n"
     ]
    }
   ],
   "source": [
    "planets = ['Mercury', 'Venus', 'Earth', 'Mars', 'Jupiter', 'Saturn', 'Uranus', 'Neptune'] #Se crea la lista de los planetas sin Pluto\n",
    "planets.append('Pluto') # Con append agregamos un valor mas a la lista, en este caso agregamos a pluton\n",
    "number_of_planets = len(planets) # Con len determanos la LONGITUD de la lista\n",
    "print('There are actually', number_of_planets, 'planets in the solar system.')# Se imprime la cantidad\n",
    "print(planets[8]) #Mostramos el ultimo elemento de la lista, poniendo su indice de locacion."
   ]
  },
  {
   "cell_type": "markdown",
   "metadata": {},
   "source": [
    "### Problema 2:  \n",
    "Trabajando con datos de una lista\n",
    "- Solicita al usuario el nombre de un planeta\n",
    "- Encuentra el planeta en la lista.\n",
    "- Muestra los planetas mas cercanos que el usuario ingese.\n",
    "- Muestra los planetas mas lejanos que el usuario ingese."
   ]
  },
  {
   "cell_type": "markdown",
   "metadata": {},
   "source": [
    "#### Solucion: 🏴"
   ]
  },
  {
   "cell_type": "code",
   "execution_count": 17,
   "metadata": {},
   "outputs": [
    {
     "name": "stdout",
     "output_type": "stream",
     "text": [
      "\n",
      "    | PLANETS |\n",
      "    - Mercury.\n",
      "    - Venus.\n",
      "    - Earth.\n",
      "    - Mars.\n",
      "    - Jupiter.\n",
      "    - Saturn.\n",
      "    - Neptune\n",
      "\n",
      "El planeta que busca se encuentra en la posicion 1con nombre: Venus\n",
      "Mostrando los planetas mas sercano al son, segun el planeta  Venus\n",
      "['Mercury']\n"
     ]
    }
   ],
   "source": [
    "planets = ['Mercury', 'Venus', 'Earth', 'Mars', 'Jupiter', 'Saturn', 'Neptune']\n",
    "#Pedir al usuario un nombre\n",
    "print(\"\"\"\n",
    "    | PLANETS |\n",
    "    - Mercury.\n",
    "    - Venus.\n",
    "    - Earth.\n",
    "    - Mars.\n",
    "    - Jupiter.\n",
    "    - Saturn.\n",
    "    - Neptune\n",
    "\"\"\")\n",
    "user_planet = input (\"Ingrese el nombre de un planeta de la lista anteriro | NOTA:No olvide comenzar con mayusculas.\")\n",
    "try: # Debido a que si no encuentra el planeta ingresado, mande una excepcion\n",
    "    planet_found = planets.index(user_planet) # INDEX para encontrar la posicion del caracter ingresado\n",
    "    if planet_found <=6: \n",
    "        print(\"El planeta que busca se encuentra en la posicion \" + str(planet_found) + \", con nombre: \" + user_planet)\n",
    "            #Los planetas mas serca del sol, dependendiendo lo ingresado.\n",
    "        print('Mostrando los planetas mas sercano al sol, segun el planeta  ' + user_planet)\n",
    "        print(planets[0:planet_found])\n",
    "            #Los planetas mas lejanos del sol, dependendiendo lo ingresado.\n",
    "        print('Mostrando los planetas mas sercano al sol, segun el planeta  ' + user_planet)\n",
    "        print(planets[planet_found + 1]) #SEGUN EL PLANETA INGRESADO, mostrarenos los planetas posteriore a este. Por esta razon se agrega el '+ 1'\n",
    "except:\n",
    "    print(\"Planeta no encontrado, vuelve a intentarlo\")"
   ]
  }
 ],
 "metadata": {
  "interpreter": {
   "hash": "eb14761e0068f033b352e530f1e06e7cf747d416fb2ca4c3be349f98ba7a5a83"
  },
  "kernelspec": {
   "display_name": "Python 3.10.0 64-bit",
   "language": "python",
   "name": "python3"
  },
  "language_info": {
   "codemirror_mode": {
    "name": "ipython",
    "version": 3
   },
   "file_extension": ".py",
   "mimetype": "text/x-python",
   "name": "python",
   "nbconvert_exporter": "python",
   "pygments_lexer": "ipython3",
   "version": "3.10.0"
  },
  "orig_nbformat": 4
 },
 "nbformat": 4,
 "nbformat_minor": 2
}
