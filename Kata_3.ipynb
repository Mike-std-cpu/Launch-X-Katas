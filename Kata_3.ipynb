{
 "cells": [
  {
   "cell_type": "markdown",
   "metadata": {},
   "source": [
    "# Kata del Modulo 3.\n",
    "## Ejercicio virtual environment🏴\n"
   ]
  },
  {
   "cell_type": "markdown",
   "metadata": {},
   "source": [
    "Crear un entorno virtual como se vio en el modulo ejecutandoce desde terminal (cmd) de nuestra computadora.\n",
    "Se anexaran las capturas de los resultados."
   ]
  },
  {
   "cell_type": "markdown",
   "metadata": {},
   "source": [
    "### Resultado desde terminal.🏴\n",
    "<img src=\"Virtual_Entrono.jpg\">"
   ]
  }
 ],
 "metadata": {
  "language_info": {
   "name": "python"
  },
  "orig_nbformat": 4
 },
 "nbformat": 4,
 "nbformat_minor": 2
}
