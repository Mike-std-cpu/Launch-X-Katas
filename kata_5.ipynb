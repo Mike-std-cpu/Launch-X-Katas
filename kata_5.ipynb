{
 "cells": [
  {
   "cell_type": "markdown",
   "metadata": {},
   "source": [
    "# Kata del Modulo 5 🐍"
   ]
  },
  {
   "cell_type": "markdown",
   "metadata": {},
   "source": [
    "### Problema 1:\n",
    "Exploremos cómo podemos crear un programa que pueda calcular la distancia entre dos planetas. Comenzaremos usando dos distancias de planetas: Tierra (149.597.870 km) y Júpiter (778.547.200 km)."
   ]
  },
  {
   "cell_type": "markdown",
   "metadata": {},
   "source": [
    "#### Solucion: 🏴"
   ]
  },
  {
   "cell_type": "code",
   "execution_count": 11,
   "metadata": {},
   "outputs": [
    {
     "name": "stdout",
     "output_type": "stream",
     "text": [
      "The distance between Jupiter and Earth is : 628949330 KM\n",
      "The distance between Jupiter and Earth is : 390577533.93 Mi\n"
     ]
    }
   ],
   "source": [
    "earth = (149597870) #Ditancia de la tierra en KILOMETROS\n",
    "jupiter = (778547200) #Ditancia de jupiter en KILOMETROS\n",
    "\n",
    "distance = jupiter - earth\n",
    "\n",
    "print(\"The distance between Jupiter and Earth is : \" + str(distance) + \" KM\")\n",
    "\n",
    "miles = distance * 0.621 // #Se multiplica * 0.621 para convertr KM a Millas\n",
    "\n",
    "print(\"The distance between Jupiter and Earth is : \" + str(miles) + \" Mi\")"
   ]
  }
 ],
 "metadata": {
  "interpreter": {
   "hash": "eb14761e0068f033b352e530f1e06e7cf747d416fb2ca4c3be349f98ba7a5a83"
  },
  "kernelspec": {
   "display_name": "Python 3.10.0 64-bit",
   "language": "python",
   "name": "python3"
  },
  "language_info": {
   "codemirror_mode": {
    "name": "ipython",
    "version": 3
   },
   "file_extension": ".py",
   "mimetype": "text/x-python",
   "name": "python",
   "nbconvert_exporter": "python",
   "pygments_lexer": "ipython3",
   "version": "3.10.0"
  },
  "orig_nbformat": 4
 },
 "nbformat": 4,
 "nbformat_minor": 2
}
