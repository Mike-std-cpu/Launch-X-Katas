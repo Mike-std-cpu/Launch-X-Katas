{
 "cells": [
  {
   "cell_type": "markdown",
   "metadata": {},
   "source": [
    "# Kata del Modulo 5 🐍"
   ]
  },
  {
   "cell_type": "markdown",
   "metadata": {},
   "source": [
    "### Problema 1: \n",
    "### Utilizar operadores aritméticos\n",
    "Exploremos cómo podemos crear un programa que pueda calcular la distancia entre dos planetas. Comenzaremos usando dos distancias de planetas: Tierra (149.597.870 km) y Júpiter (778.547.200 km)."
   ]
  },
  {
   "cell_type": "markdown",
   "metadata": {},
   "source": [
    "#### Solucion: 🏴"
   ]
  },
  {
   "cell_type": "code",
   "execution_count": 11,
   "metadata": {},
   "outputs": [
    {
     "name": "stdout",
     "output_type": "stream",
     "text": [
      "The distance between Jupiter and Earth is : 628949330 KM\n",
      "The distance between Jupiter and Earth is : 390577533.93 Mi\n"
     ]
    }
   ],
   "source": [
    "earth = (149597870) #Ditancia de la tierra en KILOMETROS\n",
    "jupiter = (778547200) #Ditancia de jupiter en KILOMETROS\n",
    "\n",
    "distance = jupiter - earth\n",
    "\n",
    "print(\"The distance between Jupiter and Earth is : \" + str(distance) + \" KM\")\n",
    "\n",
    "miles = distance * 0.621 // #Se multiplica * 0.621 para convertr KM a Millas\n",
    "\n",
    "print(\"The distance between Jupiter and Earth is : \" + str(miles) + \" Mi\")"
   ]
  },
  {
   "cell_type": "markdown",
   "metadata": {},
   "source": [
    "### Problema 2: \n",
    "#### Convierte cadenas en números y usa valores absolutos\n",
    "Con frecuencia, deberás convertir los valores de cadena en números para realizar correctamente diferentes operaciones o determinar el valor absoluto de un número.\n",
    "\n",
    "Para crear nuestra aplicación, queremos leer la distancia del sol para dos planetas, y luego mostrar la distancia entre los planetas. Haremos esto usando input para leer los valores, int para convertir a entero y luego abs para convertir el resultado en su valor absoluto."
   ]
  },
  {
   "cell_type": "code",
   "execution_count": 16,
   "metadata": {},
   "outputs": [
    {
     "name": "stdout",
     "output_type": "stream",
     "text": [
      "¡Veremos las distancias entre el sol y 2 planetas que tu ingreses!\n",
      "Te damos las siguientes datos para que escoges 2 a tus preferecnias.\n",
      "Mercurio\t57900000\n",
      "Venus\t108200000\n",
      "Tierra\t149600000\n",
      "Marte\t227900000\n",
      "Júpiter\t778600000\n",
      "Saturno\t1433500000\n",
      "Urano\t2872500000\n",
      "Neptuno\t4495100000\n",
      "\n",
      "\n",
      "La distancia entre tus dos planetas es de: -4386900000 KM\n",
      "La distancia entre tus planetas es de : 2724264900.0 Mi\n"
     ]
    }
   ],
   "source": [
    "print(\"¡Veremos las distancias entre el sol y 2 planetas que tu ingreses!\")\n",
    "print(\"Te damos las siguientes datos para que escoges 2 a tus preferecnias.\")\n",
    "print(\"\"\"Mercurio\t57900000\n",
    "Venus\t108200000\n",
    "Tierra\t149600000\n",
    "Marte\t227900000\n",
    "Júpiter\t778600000\n",
    "Saturno\t1433500000\n",
    "Urano\t2872500000\n",
    "Neptuno\t4495100000\n",
    "\n",
    "\"\"\")\n",
    "fir_planet = input(\"¿Cual es la distancia de tu primer planeta?\")\n",
    "sec_planet = input(\"Ahora ¿Cual es la distancia de tu segundo planeta?\")\n",
    " #Se convierte las cadenas de entrada a numeros enteros\n",
    "planet_int1 = int(fir_planet)\n",
    "planet_int2 = int(sec_planet)\n",
    "\n",
    "distance = planet_int2 - planet_int1\n",
    "\n",
    "print(\"La distancia entre tus dos planetas es de: \" + str(distance) + \" KM\")\n",
    "\n",
    "miles = distance * 0.621 #Se multiplica * 0.621 para convertr KM a Millas\n",
    "\n",
    "print(\"La distancia entre tus planetas es de : \" + str(abs(miles)) + \" Mi\")\n"
   ]
  }
 ],
 "metadata": {
  "interpreter": {
   "hash": "eb14761e0068f033b352e530f1e06e7cf747d416fb2ca4c3be349f98ba7a5a83"
  },
  "kernelspec": {
   "display_name": "Python 3.10.0 64-bit",
   "language": "python",
   "name": "python3"
  },
  "language_info": {
   "codemirror_mode": {
    "name": "ipython",
    "version": 3
   },
   "file_extension": ".py",
   "mimetype": "text/x-python",
   "name": "python",
   "nbconvert_exporter": "python",
   "pygments_lexer": "ipython3",
   "version": "3.10.0"
  },
  "orig_nbformat": 4
 },
 "nbformat": 4,
 "nbformat_minor": 2
}
