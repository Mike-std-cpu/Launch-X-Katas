{
 "cells": [
  {
   "cell_type": "markdown",
   "metadata": {},
   "source": [
    "# Kata del Modulo X🐍\n",
    "\n",
    "### Escenario: Creación de un programa de cohetes\n",
    "Imagina que es un desarrollador que está creando un programa para un cohete. El programa debe leer un archivo de configuración para asegurarse de que se carga la configuración adecuada. La lectura del archivo puede producir un error si falta el archivo o tiene otros problemas. En este módulo, explorarás cómo crear el programa.\n",
    "#### Tracebacks\n",
    "Un traceback es el cuerpo del texto que puede apuntar al origen (y al final) de un error no controlado. Comprender los componentes de un traceback hará que seas más eficaz al corregir errores o depurar un programa que no funciona bien."
   ]
  },
  {
   "cell_type": "code",
   "execution_count": 1,
   "metadata": {},
   "outputs": [
    {
     "ename": "FileNotFoundError",
     "evalue": "[Errno 2] No such file or directory: '/path/to/mars.jpg'",
     "output_type": "error",
     "traceback": [
      "\u001b[1;31m---------------------------------------------------------------------------\u001b[0m",
      "\u001b[1;31mFileNotFoundError\u001b[0m                         Traceback (most recent call last)",
      "\u001b[1;32mc:\\Cursos\\Github\\Launch-X-Katas\\kata_10.ipynb Cell 2'\u001b[0m in \u001b[0;36m<module>\u001b[1;34m\u001b[0m\n\u001b[0;32m      <a href='vscode-notebook-cell:/c%3A/Cursos/Github/Launch-X-Katas/kata_10.ipynb#ch0000001?line=0'>1</a>\u001b[0m \u001b[39m#Ejemplo de error por abrir un archivo inexistente\u001b[39;00m\n\u001b[1;32m----> <a href='vscode-notebook-cell:/c%3A/Cursos/Github/Launch-X-Katas/kata_10.ipynb#ch0000001?line=2'>3</a>\u001b[0m \u001b[39mopen\u001b[39;49m(\u001b[39m\"\u001b[39;49m\u001b[39m/path/to/mars.jpg\u001b[39;49m\u001b[39m\"\u001b[39;49m)\n",
      "\u001b[1;31mFileNotFoundError\u001b[0m: [Errno 2] No such file or directory: '/path/to/mars.jpg'"
     ]
    }
   ],
   "source": [
    "#Ejemplo de error por abrir un archivo inexistente\n",
    "\n",
    "open(\"/path/to/mars.jpg\")\n",
    "#Debemos identificar el error que saldra abajo y saldra un Traceback"
   ]
  },
  {
   "cell_type": "markdown",
   "metadata": {},
   "source": [
    "> *Intenta crear un archivo de Python y asígnale el nombre open.py, con el contenido siguiente:"
   ]
  },
  {
   "cell_type": "code",
   "execution_count": null,
   "metadata": {},
   "outputs": [],
   "source": [
    "def main():\n",
    "    open(\"/path/to/mars.jpg\")\n",
    "\n",
    "if __name__ == '__main__':\n",
    "    main()"
   ]
  },
  {
   "cell_type": "markdown",
   "metadata": {},
   "source": [
    "## ¿Que sucede? 🤔\n",
    "Se trata de una sola función main() que abre el archivo inexistente, como antes. Al final, esta función usa un asistente de Python que indica al intérprete que ejecute la función main() cuando se le llama en el terminal. Ejecútala con Python y podrás comprobar el siguiente mensaje de error:\n",
    "### Resultado desde el programa.🏴\n",
    "<img src=\"img/error_traceback.jpeg\">"
   ]
  },
  {
   "cell_type": "markdown",
   "metadata": {},
   "source": [
    "La salida de error tiene más sentido ahora. Las rutas de acceso apuntan a un único archivo denominado open.py. La salida menciona que el error se inicia en la línea 5, que incluye la llamada a main(). A continuación, la salida sigue el error a la línea 2 en la llamada de función open(). Y, por último, FileNotFoundError notifica de nuevo que el archivo o el directorio\n",
    "\n",
    ">*Los tracebacks casi siempre incluyen la información siguiente:*\n",
    "\n",
    ">- *Todas las rutas de acceso de archivo implicadas, para cada llamada a cada función.*\n",
    ">- *Los números de línea asociados a cada ruta de acceso de archivo.*\n",
    ">- *Los nombres de las funciones, métodos o clases implicados en la generación de una excepción.*\n",
    ">- *El nombre de la excepción que se ha producido.*"
   ]
  },
  {
   "cell_type": "markdown",
   "metadata": {},
   "source": [
    "## Try y Except de los bloques\n",
    "Vamos a usar el ejemplo de navegador a fin de crear código que abra archivos de configuración para la misión de Marte. Los archivos de configuración pueden tener todo tipo de problemas, por lo que es fundamental notificarlos con precisión cuando se presenten. Sabemos que, si no existe un archivo o directorio, se genera **FileNotFoundError**. Si queremos controlar esa excepción, podemos hacerlo con un bloque try y except:"
   ]
  },
  {
   "cell_type": "code",
   "execution_count": 2,
   "metadata": {},
   "outputs": [
    {
     "name": "stdout",
     "output_type": "stream",
     "text": [
      "Couldn't find the config.txt file!\n"
     ]
    }
   ],
   "source": [
    "try:\n",
    "    open('config.txt')\n",
    "except FileNotFoundError:\n",
    "    print(\"Couldn't find the config.txt file!\")\n",
    "\n",
    "    \"Salida : Couldn't find the config.txt file!\"\n"
   ]
  },
  {
   "cell_type": "markdown",
   "metadata": {},
   "source": [
    "Después de la palabra clave **try**, agregamos código que tenga la posibilidad de producir una excepción. A continuación, agregamos la palabra clave except junto con la posible excepción, seguida de cualquier código que deba ejecutarse cuando se produce esa condición. "
   ]
  },
  {
   "cell_type": "markdown",
   "metadata": {},
   "source": [
    "Puesto que config.txt no existe en el sistema, Python imprime que el archivo de configuración no está ahí. El bloque **try** y **except**, junto con un mensaje útil, evita un seguimiento y sigue informando al usuario sobre el problema.\n",
    "> Vamos a crear un archivo de Python denominado config.py. El archivo tiene código que busca y lee el archivo de configuración del sistema de navegación:"
   ]
  },
  {
   "cell_type": "code",
   "execution_count": null,
   "metadata": {},
   "outputs": [],
   "source": [
    "def main():\n",
    "    try:\n",
    "        configuration = open('config.txt')\n",
    "    except FileNotFoundError:\n",
    "        print(\"Couldn't find the config.txt file!\")\n",
    "\n",
    "\n",
    "if __name__ == '__main__':\n",
    "    main()"
   ]
  },
  {
   "cell_type": "markdown",
   "metadata": {},
   "source": [
    "<img src=\"img/config_error.jpeg\">"
   ]
  },
  {
   "cell_type": "code",
   "execution_count": null,
   "metadata": {},
   "outputs": [],
   "source": [
    "\"\"\"\n",
    "Una manera poco útil de controlar este error sería detectar todas las excepciones posibles para evitar un traceback.\n",
    "Para comprender por qué detectar todas las excepciones es problemático, probaremos actualizando la función main():\n",
    "\"\"\"\n",
    "def main():\n",
    "    try:\n",
    "        configuration = open('config.txt')\n",
    "    except Exception:\n",
    "        print(\"Couldn't find the config.txt file!\")\n",
    "\n",
    "# Salida: $ python config.py\n",
    "# Couldn't find the config.txt file!"
   ]
  },
  {
   "cell_type": "markdown",
   "metadata": {},
   "source": [
    "> *Vamos a corregir este fragmento de código para abordar todas estas frustraciones. Revertiremos la detección de **FileNotFoundError** y luego agregamos otro bloque **except** para detectar PermissionError:*"
   ]
  },
  {
   "cell_type": "code",
   "execution_count": null,
   "metadata": {},
   "outputs": [],
   "source": [
    "def main():\n",
    "    try:\n",
    "        configuration = open('config.txt')\n",
    "    except FileNotFoundError:\n",
    "        print(\"Couldn't find the config.txt file!\")\n",
    "    except IsADirectoryError:\n",
    "        print(\"Found config.txt but it is a directory, couldn't read it\")\n",
    "\n",
    "\"\"\"\n",
    "Salida: Found config.txt but couldn't read it\n",
    " Ahora eliminamos el archivo confi para entrar al except\n",
    "\"\"\""
   ]
  },
  {
   "cell_type": "markdown",
   "metadata": {},
   "source": [
    "Cuando los errores son de una naturaleza similar y no es necesario controlarlos individualmente, puedes agrupar las excepciones como una usando paréntesis en la línea **except**. Por ejemplo, si el sistema de navegación está bajo cargas pesadas y el sistema de archivos está demasiado ocupado, tiene sentido detectar *BlockingIOError* y *TimeOutError* juntos:"
   ]
  },
  {
   "cell_type": "code",
   "execution_count": 3,
   "metadata": {},
   "outputs": [],
   "source": [
    "def main():\n",
    "    try:\n",
    "        configuration = open('config.txt')\n",
    "    except FileNotFoundError:\n",
    "        print(\"Couldn't find the config.txt file!\")\n",
    "    except IsADirectoryError:\n",
    "        print(\"Found config.txt but it is a directory, couldn't read it\")\n",
    "    except (BlockingIOError, TimeoutError):\n",
    "        print(\"Filesystem under heavy load, can't complete reading configuration file\")"
   ]
  },
  {
   "cell_type": "markdown",
   "metadata": {},
   "source": [
    "## Sugerencias. 🗣️\n",
    "> - Aunque puedes agrupar excepciones, solo debes hacerlo cuando no sea necesario controlarlas individualmente. Evita agrupar muchas excepciones para proporcionar un mensaje de error generalizado.\n",
    "> - Si necesitas acceder al error asociado a la excepción, debes actualizar la línea except para incluir la palabra clave as. Esta técnica es práctica si una excepción es demasiado genérica y el mensaje de error puede ser útil:"
   ]
  },
  {
   "cell_type": "code",
   "execution_count": 4,
   "metadata": {},
   "outputs": [
    {
     "name": "stdout",
     "output_type": "stream",
     "text": [
      "got a problem trying to read the file: [Errno 2] No such file or directory: 'mars.jpg'\n"
     ]
    }
   ],
   "source": [
    "try:\n",
    "    open(\"mars.jpg\")\n",
    "except FileNotFoundError as err:\n",
    "    print(\"got a problem trying to read the file:\", err)\n",
    "\n",
    "#Salida :got a problem trying to read the file: [Errno 2] No such file or directory: 'mars.jpg'"
   ]
  },
  {
   "cell_type": "markdown",
   "metadata": {},
   "source": [
    "En este caso, **as err** significa que **err** se convierte en una variable con el objeto de excepción como valor. Después, usa este valor para imprimir el mensaje de error asociado a la excepción. Otra razón para usar esta técnica es acceder directamente a los atributos del error. Por ejemplo, si detecta una excepción OSError más genérica, que es la excepción primaria de **FilenotFoundError** y **PermissionError**, podemos diferenciarlas mediante el atributo .errno:"
   ]
  },
  {
   "cell_type": "code",
   "execution_count": 5,
   "metadata": {},
   "outputs": [
    {
     "name": "stdout",
     "output_type": "stream",
     "text": [
      "Couldn't find the config.txt file!\n"
     ]
    }
   ],
   "source": [
    "try:\n",
    "    open(\"config.txt\")\n",
    "except OSError as err:\n",
    "    if err.errno == 2:\n",
    "        print(\"Couldn't find the config.txt file!\")\n",
    "    elif err.errno == 13:\n",
    "        print(\"Found config.txt but couldn't read it\")\n",
    "\n",
    "#Salida: Couldn't find the config.txt file!"
   ]
  },
  {
   "cell_type": "markdown",
   "metadata": {},
   "source": [
    "> *Intenta usar siempre la técnica que proporcione la mejor legibilidad para el código y que ayude a mantenerlo en el futuro. A veces es necesario usar código menos legible para ofrecer una mejor experiencia de usuario cuando se produce un error.*"
   ]
  },
  {
   "cell_type": "markdown",
   "metadata": {},
   "source": [
    "### Generador de Excepciones\n",
    "Ahora que tienes una buena comprensión de los tracebacks y el control de excepciones, vamos a revisar la generación de excepciones.\n",
    "\n",
    "Es posible que ya conozcas una situación que podría provocar una condición de error al escribir código. En estas situaciones, resulta útil generar excepciones que permitan que otro código comprenda cuál es el problema.\n",
    "\n",
    "La generación de excepciones también puede ayudar en la toma de decisiones para otro código. Como hemos visto antes, en función del error, el código puede tomar decisiones inteligentes para resolver, solucionar o ignorar un problema."
   ]
  },
  {
   "cell_type": "markdown",
   "metadata": {},
   "source": [
    "Los astronautas limitan su uso de agua a unos 11 litros al día. Vamos a crear una función que, con base al número de astronautas, pueda calcular la cantidad de agua quedará después de un día o más:"
   ]
  },
  {
   "cell_type": "code",
   "execution_count": 12,
   "metadata": {},
   "outputs": [
    {
     "name": "stdout",
     "output_type": "stream",
     "text": [
      "El agua faltante despues de 2 dias es: -10 litros\n"
     ]
    }
   ],
   "source": [
    "#Funcion para calculo de agua despues de un dia\n",
    "def water_left(astronautas, agua_faltante, dias_faltante):\n",
    "    uso_dia = astronautas * 11\n",
    "    total_uso = uso_dia * dias_faltante\n",
    "    total_agua_falt = agua_faltante - total_uso\n",
    "    return f\"El agua faltante despues de {dias_faltante} dias es: {total_agua_falt} litros\"\n",
    "\n",
    "#Comprobamos\n",
    "print(water_left(5, 100, 2))\n",
    "#Salida: "
   ]
  },
  {
   "cell_type": "markdown",
   "metadata": {},
   "source": [
    "> Esto no es muy útil, ya que una carencia en los litros sería un error. Después, el sistema de navegación podría alertar a los astronautas que no habrá suficiente agua para todos en dos días. Si eres un ingeniero(a) que programa el sistema de navegación, podrías generar una excepción en la función **water_left()** para alertar de la condición de error:"
   ]
  },
  {
   "cell_type": "code",
   "execution_count": 14,
   "metadata": {},
   "outputs": [
    {
     "ename": "RuntimeError",
     "evalue": "There is not enough water for 5 astronauts after 2 days!",
     "output_type": "error",
     "traceback": [
      "\u001b[1;31m---------------------------------------------------------------------------\u001b[0m",
      "\u001b[1;31mRuntimeError\u001b[0m                              Traceback (most recent call last)",
      "\u001b[1;32mc:\\Cursos\\Github\\Launch-X-Katas\\kata_10.ipynb Cell 27'\u001b[0m in \u001b[0;36m<module>\u001b[1;34m\u001b[0m\n\u001b[0;32m      <a href='vscode-notebook-cell:/c%3A/Cursos/Github/Launch-X-Katas/kata_10.ipynb#ch0000030?line=6'>7</a>\u001b[0m     \u001b[39mreturn\u001b[39;00m \u001b[39mf\u001b[39m\u001b[39m\"\u001b[39m\u001b[39mTotal water left after \u001b[39m\u001b[39m{\u001b[39;00mdias_faltante\u001b[39m}\u001b[39;00m\u001b[39m days is: \u001b[39m\u001b[39m{\u001b[39;00mtotal_agua_falt\u001b[39m}\u001b[39;00m\u001b[39m liters\u001b[39m\u001b[39m\"\u001b[39m\n\u001b[0;32m      <a href='vscode-notebook-cell:/c%3A/Cursos/Github/Launch-X-Katas/kata_10.ipynb#ch0000030?line=8'>9</a>\u001b[0m \u001b[39m#Comprobamos\u001b[39;00m\n\u001b[1;32m---> <a href='vscode-notebook-cell:/c%3A/Cursos/Github/Launch-X-Katas/kata_10.ipynb#ch0000030?line=9'>10</a>\u001b[0m \u001b[39mprint\u001b[39m(water_left(\u001b[39m5\u001b[39;49m, \u001b[39m100\u001b[39;49m, \u001b[39m2\u001b[39;49m))\n",
      "\u001b[1;32mc:\\Cursos\\Github\\Launch-X-Katas\\kata_10.ipynb Cell 27'\u001b[0m in \u001b[0;36mwater_left\u001b[1;34m(astronautas, agua_faltante, dias_faltante)\u001b[0m\n\u001b[0;32m      <a href='vscode-notebook-cell:/c%3A/Cursos/Github/Launch-X-Katas/kata_10.ipynb#ch0000030?line=3'>4</a>\u001b[0m total_agua_falt \u001b[39m=\u001b[39m agua_faltante \u001b[39m-\u001b[39m total_uso\n\u001b[0;32m      <a href='vscode-notebook-cell:/c%3A/Cursos/Github/Launch-X-Katas/kata_10.ipynb#ch0000030?line=4'>5</a>\u001b[0m \u001b[39mif\u001b[39;00m total_agua_falt \u001b[39m<\u001b[39m \u001b[39m0\u001b[39m:\n\u001b[1;32m----> <a href='vscode-notebook-cell:/c%3A/Cursos/Github/Launch-X-Katas/kata_10.ipynb#ch0000030?line=5'>6</a>\u001b[0m     \u001b[39mraise\u001b[39;00m \u001b[39mRuntimeError\u001b[39;00m(\u001b[39mf\u001b[39m\u001b[39m\"\u001b[39m\u001b[39mThere is not enough water for \u001b[39m\u001b[39m{\u001b[39;00mastronautas\u001b[39m}\u001b[39;00m\u001b[39m astronauts after \u001b[39m\u001b[39m{\u001b[39;00mdias_faltante\u001b[39m}\u001b[39;00m\u001b[39m days!\u001b[39m\u001b[39m\"\u001b[39m)\n\u001b[0;32m      <a href='vscode-notebook-cell:/c%3A/Cursos/Github/Launch-X-Katas/kata_10.ipynb#ch0000030?line=6'>7</a>\u001b[0m \u001b[39mreturn\u001b[39;00m \u001b[39mf\u001b[39m\u001b[39m\"\u001b[39m\u001b[39mTotal water left after \u001b[39m\u001b[39m{\u001b[39;00mdias_faltante\u001b[39m}\u001b[39;00m\u001b[39m days is: \u001b[39m\u001b[39m{\u001b[39;00mtotal_agua_falt\u001b[39m}\u001b[39;00m\u001b[39m liters\u001b[39m\u001b[39m\"\u001b[39m\n",
      "\u001b[1;31mRuntimeError\u001b[0m: There is not enough water for 5 astronauts after 2 days!"
     ]
    }
   ],
   "source": [
    "def water_left(astronautas, agua_faltante, dias_faltante):\n",
    "    uso_dia = astronautas * 11\n",
    "    total_uso = uso_dia * dias_faltante\n",
    "    total_agua_falt = agua_faltante - total_uso\n",
    "    if total_agua_falt < 0:\n",
    "        raise RuntimeError(f\"No habra suficiente agua para los {astronautas} astronautas despues de {dias_faltante} Dias!\")\n",
    "    return f\"El agua faltante despues de {dias_faltante} dias es: {total_agua_falt} litros\"\n",
    "    \n",
    "#Comprobamos\n",
    "print(water_left(5, 100, 2))"
   ]
  },
  {
   "cell_type": "code",
   "execution_count": 16,
   "metadata": {},
   "outputs": [
    {
     "ename": "TypeError",
     "evalue": "can't multiply sequence by non-int of type 'NoneType'",
     "output_type": "error",
     "traceback": [
      "\u001b[1;31m---------------------------------------------------------------------------\u001b[0m",
      "\u001b[1;31mTypeError\u001b[0m                                 Traceback (most recent call last)",
      "\u001b[1;32mc:\\Cursos\\Github\\Launch-X-Katas\\kata_10.ipynb Cell 28'\u001b[0m in \u001b[0;36m<module>\u001b[1;34m\u001b[0m\n\u001b[0;32m      <a href='vscode-notebook-cell:/c%3A/Cursos/Github/Launch-X-Katas/kata_10.ipynb#ch0000031?line=0'>1</a>\u001b[0m \u001b[39m\"\"\"\u001b[39;00m\n\u001b[0;32m      <a href='vscode-notebook-cell:/c%3A/Cursos/Github/Launch-X-Katas/kata_10.ipynb#ch0000031?line=1'>2</a>\u001b[0m \u001b[39mLa función water_left() también se puede actualizar para evitar el paso de tipos no admitidos.\u001b[39;00m\n\u001b[0;32m      <a href='vscode-notebook-cell:/c%3A/Cursos/Github/Launch-X-Katas/kata_10.ipynb#ch0000031?line=2'>3</a>\u001b[0m \u001b[39mIntentenis pasar argumentos que no sean enteros para comprobar la salida de error:\u001b[39;00m\n\u001b[0;32m      <a href='vscode-notebook-cell:/c%3A/Cursos/Github/Launch-X-Katas/kata_10.ipynb#ch0000031?line=3'>4</a>\u001b[0m \u001b[39m\"\"\"\u001b[39;00m\n\u001b[1;32m----> <a href='vscode-notebook-cell:/c%3A/Cursos/Github/Launch-X-Katas/kata_10.ipynb#ch0000031?line=4'>5</a>\u001b[0m water_left(\u001b[39m\"\u001b[39;49m\u001b[39m3\u001b[39;49m\u001b[39m\"\u001b[39;49m, \u001b[39m\"\u001b[39;49m\u001b[39m200\u001b[39;49m\u001b[39m\"\u001b[39;49m, \u001b[39mNone\u001b[39;49;00m)\n\u001b[0;32m      <a href='vscode-notebook-cell:/c%3A/Cursos/Github/Launch-X-Katas/kata_10.ipynb#ch0000031?line=5'>6</a>\u001b[0m \u001b[39m\"\"\"\u001b[39;00m\n\u001b[0;32m      <a href='vscode-notebook-cell:/c%3A/Cursos/Github/Launch-X-Katas/kata_10.ipynb#ch0000031?line=6'>7</a>\u001b[0m \u001b[39mTraceback (most recent call last):\u001b[39;00m\n\u001b[0;32m      <a href='vscode-notebook-cell:/c%3A/Cursos/Github/Launch-X-Katas/kata_10.ipynb#ch0000031?line=7'>8</a>\u001b[0m \u001b[39m  File \"<stdin>\", line 1, in <module>\u001b[39;00m\n\u001b[0;32m      <a href='vscode-notebook-cell:/c%3A/Cursos/Github/Launch-X-Katas/kata_10.ipynb#ch0000031?line=8'>9</a>\u001b[0m \u001b[39m  File \"<stdin>\", line 3, in water_left\u001b[39;00m\n\u001b[0;32m     <a href='vscode-notebook-cell:/c%3A/Cursos/Github/Launch-X-Katas/kata_10.ipynb#ch0000031?line=9'>10</a>\u001b[0m \u001b[39mTypeError: can't multiply sequence by non-int of type 'NoneType'\u001b[39;00m\n\u001b[0;32m     <a href='vscode-notebook-cell:/c%3A/Cursos/Github/Launch-X-Katas/kata_10.ipynb#ch0000031?line=10'>11</a>\u001b[0m \u001b[39m\"\"\"\u001b[39;00m\n",
      "\u001b[1;32mc:\\Cursos\\Github\\Launch-X-Katas\\kata_10.ipynb Cell 27'\u001b[0m in \u001b[0;36mwater_left\u001b[1;34m(astronautas, agua_faltante, dias_faltante)\u001b[0m\n\u001b[0;32m      <a href='vscode-notebook-cell:/c%3A/Cursos/Github/Launch-X-Katas/kata_10.ipynb#ch0000030?line=0'>1</a>\u001b[0m \u001b[39mdef\u001b[39;00m \u001b[39mwater_left\u001b[39m(astronautas, agua_faltante, dias_faltante):\n\u001b[0;32m      <a href='vscode-notebook-cell:/c%3A/Cursos/Github/Launch-X-Katas/kata_10.ipynb#ch0000030?line=1'>2</a>\u001b[0m     uso_dia \u001b[39m=\u001b[39m astronautas \u001b[39m*\u001b[39m \u001b[39m11\u001b[39m\n\u001b[1;32m----> <a href='vscode-notebook-cell:/c%3A/Cursos/Github/Launch-X-Katas/kata_10.ipynb#ch0000030?line=2'>3</a>\u001b[0m     total_uso \u001b[39m=\u001b[39m uso_dia \u001b[39m*\u001b[39;49m dias_faltante\n\u001b[0;32m      <a href='vscode-notebook-cell:/c%3A/Cursos/Github/Launch-X-Katas/kata_10.ipynb#ch0000030?line=3'>4</a>\u001b[0m     total_agua_falt \u001b[39m=\u001b[39m agua_faltante \u001b[39m-\u001b[39m total_uso\n\u001b[0;32m      <a href='vscode-notebook-cell:/c%3A/Cursos/Github/Launch-X-Katas/kata_10.ipynb#ch0000030?line=4'>5</a>\u001b[0m     \u001b[39mif\u001b[39;00m total_agua_falt \u001b[39m<\u001b[39m \u001b[39m0\u001b[39m:\n",
      "\u001b[1;31mTypeError\u001b[0m: can't multiply sequence by non-int of type 'NoneType'"
     ]
    }
   ],
   "source": [
    "\"\"\"\n",
    "La función water_left() también se puede actualizar para evitar el paso de tipos no admitidos.\n",
    "Intentenis pasar argumentos que no sean enteros para comprobar la salida de error:\n",
    "\"\"\"\n",
    "water_left(\"3\", \"200\", None)\n",
    "\"\"\"\n",
    "Traceback (most recent call last):\n",
    "  File \"<stdin>\", line 1, in <module>\n",
    "  File \"<stdin>\", line 3, in water_left\n",
    "TypeError: can't multiply sequence by non-int of type 'NoneType'\n",
    "\"\"\""
   ]
  },
  {
   "cell_type": "markdown",
   "metadata": {},
   "source": [
    "El error de **TypeError** no es muy descriptivo en el contexto de lo que espera la función. Actualizaremos la función para que use **TypeError**, pero con un mensaje mejor:"
   ]
  },
  {
   "cell_type": "code",
   "execution_count": 19,
   "metadata": {},
   "outputs": [],
   "source": [
    "def water_left(astronauts, water_left, days_left):\n",
    "    for argument in [astronauts, water_left, days_left]:\n",
    "        try:\n",
    "            # If argument is an int, the following operation will work\n",
    "            argument / 10\n",
    "        except TypeError:\n",
    "            # TypError will be raised only if it isn't the right type \n",
    "            # Raise the same exception but with a better error message\n",
    "            raise TypeError(f\"All arguments must be of type int, but received: '{argument}'\")\n",
    "    daily_usage = astronauts * 11\n",
    "    total_usage = daily_usage * days_left\n",
    "    total_water_left = water_left - total_usage\n",
    "    if total_water_left < 0:\n",
    "        raise RuntimeError(f\"There is not enough water for {astronauts} astronauts after {days_left} days!\")\n",
    "    return f\"Total water left after {days_left} days is: {total_water_left} liters\""
   ]
  },
  {
   "cell_type": "markdown",
   "metadata": {},
   "source": [
    "> Ahora volvemos a intentarlo para obtener un error mejor:"
   ]
  },
  {
   "cell_type": "code",
   "execution_count": 20,
   "metadata": {},
   "outputs": [
    {
     "ename": "TypeError",
     "evalue": "All arguments must be of type int, but received: '3'",
     "output_type": "error",
     "traceback": [
      "\u001b[1;31m---------------------------------------------------------------------------\u001b[0m",
      "\u001b[1;31mTypeError\u001b[0m                                 Traceback (most recent call last)",
      "\u001b[1;32mc:\\Cursos\\Github\\Launch-X-Katas\\kata_10.ipynb Cell 30'\u001b[0m in \u001b[0;36mwater_left\u001b[1;34m(astronauts, water_left, days_left)\u001b[0m\n\u001b[0;32m      <a href='vscode-notebook-cell:/c%3A/Cursos/Github/Launch-X-Katas/kata_10.ipynb#ch0000033?line=2'>3</a>\u001b[0m \u001b[39mtry\u001b[39;00m:\n\u001b[0;32m      <a href='vscode-notebook-cell:/c%3A/Cursos/Github/Launch-X-Katas/kata_10.ipynb#ch0000033?line=3'>4</a>\u001b[0m     \u001b[39m# If argument is an int, the following operation will work\u001b[39;00m\n\u001b[1;32m----> <a href='vscode-notebook-cell:/c%3A/Cursos/Github/Launch-X-Katas/kata_10.ipynb#ch0000033?line=4'>5</a>\u001b[0m     argument \u001b[39m/\u001b[39;49m \u001b[39m10\u001b[39;49m\n\u001b[0;32m      <a href='vscode-notebook-cell:/c%3A/Cursos/Github/Launch-X-Katas/kata_10.ipynb#ch0000033?line=5'>6</a>\u001b[0m \u001b[39mexcept\u001b[39;00m \u001b[39mTypeError\u001b[39;00m:\n\u001b[0;32m      <a href='vscode-notebook-cell:/c%3A/Cursos/Github/Launch-X-Katas/kata_10.ipynb#ch0000033?line=6'>7</a>\u001b[0m     \u001b[39m# TypError will be raised only if it isn't the right type \u001b[39;00m\n\u001b[0;32m      <a href='vscode-notebook-cell:/c%3A/Cursos/Github/Launch-X-Katas/kata_10.ipynb#ch0000033?line=7'>8</a>\u001b[0m     \u001b[39m# Raise the same exception but with a better error message\u001b[39;00m\n",
      "\u001b[1;31mTypeError\u001b[0m: unsupported operand type(s) for /: 'str' and 'int'",
      "\nDuring handling of the above exception, another exception occurred:\n",
      "\u001b[1;31mTypeError\u001b[0m                                 Traceback (most recent call last)",
      "\u001b[1;32mc:\\Cursos\\Github\\Launch-X-Katas\\kata_10.ipynb Cell 32'\u001b[0m in \u001b[0;36m<module>\u001b[1;34m\u001b[0m\n\u001b[1;32m----> <a href='vscode-notebook-cell:/c%3A/Cursos/Github/Launch-X-Katas/kata_10.ipynb#ch0000036?line=0'>1</a>\u001b[0m water_left(\u001b[39m\"\u001b[39;49m\u001b[39m3\u001b[39;49m\u001b[39m\"\u001b[39;49m, \u001b[39m\"\u001b[39;49m\u001b[39m200\u001b[39;49m\u001b[39m\"\u001b[39;49m, \u001b[39mNone\u001b[39;49;00m)\n\u001b[0;32m      <a href='vscode-notebook-cell:/c%3A/Cursos/Github/Launch-X-Katas/kata_10.ipynb#ch0000036?line=2'>3</a>\u001b[0m \u001b[39m\"\"\"\u001b[39;00m\n\u001b[0;32m      <a href='vscode-notebook-cell:/c%3A/Cursos/Github/Launch-X-Katas/kata_10.ipynb#ch0000036?line=3'>4</a>\u001b[0m \u001b[39mSALIDA:\u001b[39;00m\n\u001b[0;32m      <a href='vscode-notebook-cell:/c%3A/Cursos/Github/Launch-X-Katas/kata_10.ipynb#ch0000036?line=4'>5</a>\u001b[0m \u001b[39mTraceback (most recent call last):\u001b[39;00m\n\u001b[1;32m   (...)\u001b[0m\n\u001b[0;32m     <a href='vscode-notebook-cell:/c%3A/Cursos/Github/Launch-X-Katas/kata_10.ipynb#ch0000036?line=13'>14</a>\u001b[0m \u001b[39mTypeError: All arguments must be of type int, but received: '3'\u001b[39;00m\n\u001b[0;32m     <a href='vscode-notebook-cell:/c%3A/Cursos/Github/Launch-X-Katas/kata_10.ipynb#ch0000036?line=14'>15</a>\u001b[0m \u001b[39m\"\"\"\u001b[39;00m\n",
      "\u001b[1;32mc:\\Cursos\\Github\\Launch-X-Katas\\kata_10.ipynb Cell 30'\u001b[0m in \u001b[0;36mwater_left\u001b[1;34m(astronauts, water_left, days_left)\u001b[0m\n\u001b[0;32m      <a href='vscode-notebook-cell:/c%3A/Cursos/Github/Launch-X-Katas/kata_10.ipynb#ch0000033?line=4'>5</a>\u001b[0m         argument \u001b[39m/\u001b[39m \u001b[39m10\u001b[39m\n\u001b[0;32m      <a href='vscode-notebook-cell:/c%3A/Cursos/Github/Launch-X-Katas/kata_10.ipynb#ch0000033?line=5'>6</a>\u001b[0m     \u001b[39mexcept\u001b[39;00m \u001b[39mTypeError\u001b[39;00m:\n\u001b[0;32m      <a href='vscode-notebook-cell:/c%3A/Cursos/Github/Launch-X-Katas/kata_10.ipynb#ch0000033?line=6'>7</a>\u001b[0m         \u001b[39m# TypError will be raised only if it isn't the right type \u001b[39;00m\n\u001b[0;32m      <a href='vscode-notebook-cell:/c%3A/Cursos/Github/Launch-X-Katas/kata_10.ipynb#ch0000033?line=7'>8</a>\u001b[0m         \u001b[39m# Raise the same exception but with a better error message\u001b[39;00m\n\u001b[1;32m----> <a href='vscode-notebook-cell:/c%3A/Cursos/Github/Launch-X-Katas/kata_10.ipynb#ch0000033?line=8'>9</a>\u001b[0m         \u001b[39mraise\u001b[39;00m \u001b[39mTypeError\u001b[39;00m(\u001b[39mf\u001b[39m\u001b[39m\"\u001b[39m\u001b[39mAll arguments must be of type int, but received: \u001b[39m\u001b[39m'\u001b[39m\u001b[39m{\u001b[39;00margument\u001b[39m}\u001b[39;00m\u001b[39m'\u001b[39m\u001b[39m\"\u001b[39m)\n\u001b[0;32m     <a href='vscode-notebook-cell:/c%3A/Cursos/Github/Launch-X-Katas/kata_10.ipynb#ch0000033?line=9'>10</a>\u001b[0m daily_usage \u001b[39m=\u001b[39m astronauts \u001b[39m*\u001b[39m \u001b[39m11\u001b[39m\n\u001b[0;32m     <a href='vscode-notebook-cell:/c%3A/Cursos/Github/Launch-X-Katas/kata_10.ipynb#ch0000033?line=10'>11</a>\u001b[0m total_usage \u001b[39m=\u001b[39m daily_usage \u001b[39m*\u001b[39m days_left\n",
      "\u001b[1;31mTypeError\u001b[0m: All arguments must be of type int, but received: '3'"
     ]
    }
   ],
   "source": [
    "water_left(\"3\", \"200\", None)\n",
    "\n",
    "\"\"\"\n",
    "SALIDA:\n",
    "Traceback (most recent call last):\n",
    "  File \"<stdin>\", line 5, in water_left\n",
    "TypeError: unsupported operand type(s) for /: 'str' and 'int'\n",
    "\n",
    "During handling of the preceding exception, another exception occurred:\n",
    "\n",
    "Traceback (most recent call last):\n",
    "  File \"<stdin>\", line 1, in <module>\n",
    "  File \"<stdin>\", line 9, in water_left\n",
    "TypeError: All arguments must be of type int, but received: '3'\n",
    "\"\"\""
   ]
  }
 ],
 "metadata": {
  "interpreter": {
   "hash": "eb14761e0068f033b352e530f1e06e7cf747d416fb2ca4c3be349f98ba7a5a83"
  },
  "kernelspec": {
   "display_name": "Python 3.10.0 64-bit",
   "language": "python",
   "name": "python3"
  },
  "language_info": {
   "codemirror_mode": {
    "name": "ipython",
    "version": 3
   },
   "file_extension": ".py",
   "mimetype": "text/x-python",
   "name": "python",
   "nbconvert_exporter": "python",
   "pygments_lexer": "ipython3",
   "version": "3.10.0"
  },
  "orig_nbformat": 4
 },
 "nbformat": 4,
 "nbformat_minor": 2
}
