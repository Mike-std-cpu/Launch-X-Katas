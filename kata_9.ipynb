{
 "cells": [
  {
   "cell_type": "markdown",
   "metadata": {},
   "source": [
    "# Kata del Modulo 9🐍"
   ]
  },
  {
   "cell_type": "markdown",
   "metadata": {},
   "source": [
    "### Problema 1:  \n",
    "#### Trabajar con argumentos en funciones\n",
    "En este ejercicio, construirás un informe de combustible que requiere información de varias ubicaciones de combustible en todo el cohete."
   ]
  },
  {
   "cell_type": "markdown",
   "metadata": {},
   "source": [
    "- Comienza por crear una función que necesite tres lecturas de combustible y devuelva un informe:\n",
    "\n",
    "#### Solucion: 🏴"
   ]
  },
  {
   "cell_type": "code",
   "execution_count": 15,
   "metadata": {},
   "outputs": [],
   "source": [
    "#Definimos la funcion\n",
    "\n",
    "def reporte (tan_oxigeno, tan_presion, tan_metano): # Definimos los parametros para su ingreso\n",
    "    total_prom= (tan_oxigeno + tan_presion + tan_metano) / 3\n",
    "    return f\"\"\"   | REPORTE DE ESTADO: |\n",
    "    Promedio: {total_prom}%\n",
    "    Estado del tanque de Oxigeno: {tan_oxigeno} %\n",
    "    Estado del tanque de presion: {tan_presion} %\n",
    "    Estado del tanque de metano: {tan_metano} % \n",
    "    \"\"\""
   ]
  },
  {
   "cell_type": "markdown",
   "metadata": {},
   "source": [
    "Ahora que hemos definido la función de informes, vamos a comprobarlo. Para esta misión, los tanques no están llenos:"
   ]
  },
  {
   "cell_type": "code",
   "execution_count": 16,
   "metadata": {},
   "outputs": [
    {
     "name": "stdout",
     "output_type": "stream",
     "text": [
      "   | REPORTE DE ESTADO: |\n",
      "    Promedio: 69.0%\n",
      "    Estado del tanque de Oxigeno: 82 %\n",
      "    Estado del tanque de presion: 50 %\n",
      "    Estado del tanque de metano: 75 % \n",
      "    \n"
     ]
    }
   ],
   "source": [
    "# Llamamos a la funcion con sus respectivos parametros\n",
    "print(reporte(82,50,75))"
   ]
  },
  {
   "cell_type": "markdown",
   "metadata": {},
   "source": [
    "En lugar de simplemente crear el informe, la función también está calculando el promedio. Mejora la legibilidad extrayendo el cálculo promedio de la función en una nueva función para que el promedio se pueda hacer de forma independiente:"
   ]
  },
  {
   "cell_type": "code",
   "execution_count": 18,
   "metadata": {},
   "outputs": [
    {
     "name": "stdout",
     "output_type": "stream",
     "text": [
      "82.0\n"
     ]
    }
   ],
   "source": [
    "#Fucnion para el promedio\n",
    "\n",
    "def promedio(values): #Usamos la funcion integrada values\n",
    "    total = sum(values) # Sumara todos los porcentajes de los tanques\n",
    "    tanq = len(values) # Extrae la cantidad de atributos\n",
    "    return total / tanq # Posterior se saca el promedio\n",
    "\n",
    "# PRUEBA\n",
    "print(promedio([80, 85, 81]) ) # 80+85+81 =246/3 Salida: 82."
   ]
  },
  {
   "cell_type": "markdown",
   "metadata": {},
   "source": [
    "Ahora actualiza la función de informes para llamando a la nueva función del promedio:"
   ]
  },
  {
   "cell_type": "code",
   "execution_count": 21,
   "metadata": {},
   "outputs": [
    {
     "name": "stdout",
     "output_type": "stream",
     "text": [
      "   | REPORTE DE ESTADO: |\n",
      "    Promedio: 78.0 % \n",
      "    Estado del tanque de Oxigeno: 88 %\n",
      "    Estado del tanque de presion: 76 %\n",
      "    Estado del tanque de metano: 70 % \n",
      "    \n"
     ]
    }
   ],
   "source": [
    "#Adapatamos el codigo anterior a la funcion de reportes\n",
    "def reporte (tan_oxigeno, tan_presion, tan_metano): # Definimos los parametros para su ingreso\n",
    "    #Se manda a llamar el metodo promedio con sus respectivos parametros, evitamos la sum y la div /3 \n",
    "    return f\"\"\"   | REPORTE DE ESTADO: |\n",
    "    Promedio: {promedio([tan_oxigeno,tan_presion, tan_metano])} % \n",
    "    Estado del tanque de Oxigeno: {tan_oxigeno} %\n",
    "    Estado del tanque de presion: {tan_presion} %\n",
    "    Estado del tanque de metano: {tan_metano} % \n",
    "    \"\"\"\n",
    "# Lo comprobamos\n",
    "print(reporte(88, 76, 70))"
   ]
  },
  {
   "cell_type": "markdown",
   "metadata": {},
   "source": [
    "### Problema 2:  \n",
    "#### Trabajar con argumentos de palabras clave en funciones\n",
    "En este ejercicio, construirás un informe de cohete que requiere varias piezas de información, como el tiempo hasta el destino, el combustible a la izquierda y el nombre del destino. Comienza por crear una función que creará un informe preciso de la misión:\n",
    "#### Solucion: 🏴"
   ]
  },
  {
   "cell_type": "code",
   "execution_count": 23,
   "metadata": {},
   "outputs": [
    {
     "name": "stdout",
     "output_type": "stream",
     "text": [
      " | REPORTE DE MISION: |\n",
      "    Mision de viaje a : Jupiter\n",
      "    Con una duracion de : 19698 minutos\n",
      "    Testado del tanque de gas : 100 %\n",
      "    \n"
     ]
    }
   ],
   "source": [
    "# Función con un informe de cohete.\n",
    "def reporte_mision_cohete( tiempo_destino, destino, tan_gas):\n",
    "    return f\"\"\" | REPORTE DE MISION: |\n",
    "    Mision de viaje a : {destino}\n",
    "    Con una duracion de : {tiempo_destino} minutos\n",
    "    Estado del tanque de gas : {tan_gas} %\n",
    "    \"\"\"\n",
    "\n",
    "print(reporte_mision_cohete(19698, 'Jupiter', 100))"
   ]
  },
  {
   "cell_type": "markdown",
   "metadata": {},
   "source": [
    "La función es problemática porque no se puede adaptar para minutos adicionales o tanques adicionales de combustible. Hazlo más flexible permitiendo cualquier número de pasos basados en el tiempo y cualquier número de tanques. En lugar de usar *args y **kwargs, aprovecha el hecho de que puedes usar cualquier nombre que desees. Asegurate que la función sea más legible mediante el uso de nombres de variables que están asociados con las entradas, como *minutes y **fuel_reservoirs:"
   ]
  },
  {
   "cell_type": "code",
   "execution_count": 28,
   "metadata": {},
   "outputs": [
    {
     "name": "stdout",
     "output_type": "stream",
     "text": [
      " | REPORTE DE MISION: |\n",
      "    Mision de viaje a : Jupiter.\n",
      "    Con una duracion de : 12062 minutos.\n",
      "    El estado general de los tanque combustible es de : 92.5 %\n",
      "    \n"
     ]
    }
   ],
   "source": [
    "# Adaptacion para que no tengas un numero limitado de variables con ' * ' ' ** '\n",
    "def reporte_mision_cohete_new(destino, *tiempo, **tan_conbus):\n",
    "    #Tendra la misma estructura\n",
    "    return f\"\"\" | REPORTE DE MISION: |\n",
    "    Mision de viaje a : {destino}.\n",
    "    Con una duracion de : {sum(tiempo)} minutos.\n",
    "    El estado general de los tanque combustible es de : {promedio((tan_conbus.values()))} %\n",
    "    \"\"\"\n",
    "\"\"\"\n",
    "> Sum irve para las uma de todo el contenido de las variables que se esten ingresando\n",
    "> Reutilizamos la funcion promedio en el estado de tanques para sacar el promedio general del estado de los tanques de combustible\n",
    "  que se esten utilizando\"\"\"\n",
    "#Probamos la funcion\n",
    "print(reporte_mision_cohete_new(\"Jupiter\", 10500, 1559, 3, tan_conbus=100, tan_conbus_extra=85))"
   ]
  },
  {
   "cell_type": "markdown",
   "metadata": {},
   "source": [
    "Debido a que el combustible que queda en los tanques es específico de cada tanque, actualiza la función para usar el nombre de cada tanque en el informe:"
   ]
  },
  {
   "cell_type": "code",
   "execution_count": 35,
   "metadata": {},
   "outputs": [
    {
     "name": "stdout",
     "output_type": "stream",
     "text": [
      " | REPORTE DE MISION: |\n",
      "    Mision de viaje a : Jupiter.\n",
      "    Con una duracion de : 26460 minutos.\n",
      "    El estado general de los tanque combustible es de : 110.0 %\n",
      "    Estado de c/u de los tanques:\n",
      "    > tan_conbus a un 70 % de capacidad\n",
      "> tan_conbus_extra a un 150 % de capacidad\n",
      "\n"
     ]
    }
   ],
   "source": [
    "# Debemos de mostrar el estdo indvidual de cada tanque y por que no... Sacar su promedio\n",
    "def reporte_mision_cohete_new(destino, *tiempo, **tan_conbus):\n",
    "    #Tendra la misma estructura\n",
    "    reporte_estado = f\"\"\" | REPORTE DE MISION: |\n",
    "    Mision de viaje a : {destino}.\n",
    "    Con una duracion de : {sum(tiempo)} minutos.\n",
    "    El estado general de los tanque combustible es de : {promedio((tan_conbus.values()))} %\n",
    "    Estado de c/u de los tanques:\n",
    "    \"\"\"\n",
    "    for nom_tan, estado in tan_conbus.items():\n",
    "        reporte_estado += f\"> {nom_tan} a un {estado} % de capacidad\\n\"\n",
    "    return reporte_estado\n",
    "\n",
    "print(reporte_mision_cohete_new(\"Jupiter\", 15369, 11036, 55, tan_conbus=70, tan_conbus_extra=150))"
   ]
  }
 ],
 "metadata": {
  "interpreter": {
   "hash": "eb14761e0068f033b352e530f1e06e7cf747d416fb2ca4c3be349f98ba7a5a83"
  },
  "kernelspec": {
   "display_name": "Python 3.10.0 64-bit",
   "language": "python",
   "name": "python3"
  },
  "language_info": {
   "codemirror_mode": {
    "name": "ipython",
    "version": 3
   },
   "file_extension": ".py",
   "mimetype": "text/x-python",
   "name": "python",
   "nbconvert_exporter": "python",
   "pygments_lexer": "ipython3",
   "version": "3.10.0"
  },
  "orig_nbformat": 4
 },
 "nbformat": 4,
 "nbformat_minor": 2
}
