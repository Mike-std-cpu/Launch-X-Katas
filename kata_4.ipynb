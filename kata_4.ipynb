{
 "cells": [
  {
   "cell_type": "markdown",
   "metadata": {},
   "source": [
    "# Kata del Modulo 4🐍"
   ]
  },
  {
   "cell_type": "markdown",
   "metadata": {},
   "source": [
    "### Problema 1:\n",
    "Hay varias operaciones que puedes realizar en las cadenas cuando las manipulamos. En este ejercicio, usarás métodos de cadena para modificar el texto con hechos sobre la Luna y luego extraerás información para crear un breve resumen.\n",
    "- *Interesting facts about the Moon. The Moon is Earth's only satellite. There are several interesting facts about the Moon and how it affects life here on Earth.*\n",
    "*On average, the Moon moves 4cm away from the Earth every year. This yearly drift is not significant enough to cause immediate effects on Earth. The highest*"
   ]
  },
  {
   "cell_type": "markdown",
   "metadata": {},
   "source": [
    "#### Solucion: 🏴"
   ]
  },
  {
   "cell_type": "code",
   "execution_count": 3,
   "metadata": {},
   "outputs": [
    {
     "name": "stdout",
     "output_type": "stream",
     "text": [
      "['Interesting facts about the Moon', \" The Moon is Earth's only satellite\", ' There are several interesting facts about the Moon and how it affects life here on Earth', ' \\nOn average, the Moon moves 4cm away from the Earth every year', ' This yearly drift is not significant enough to cause immediate effects on Earth', ' The highest ']\n"
     ]
    }
   ],
   "source": [
    "#Se divide el texto de la variale\n",
    "text = \"\"\"Interesting facts about the Moon. The Moon is Earth's only satellite. There are several interesting facts about the Moon and how it affects life here on Earth. \n",
    "On average, the Moon moves 4cm away from the Earth every year. This yearly drift is not significant enough to cause immediate effects on Earth. The highest \"\"\"\n",
    "div_text = text.split(\".\")\n",
    "print(div_text)"
   ]
  },
  {
   "cell_type": "code",
   "execution_count": 11,
   "metadata": {},
   "outputs": [
    {
     "name": "stdout",
     "output_type": "stream",
     "text": [
      "average\n",
      "temperature\n",
      "distance\n"
     ]
    }
   ],
   "source": [
    "\"\"\"Palabras clave del texto para su impresion:\n",
    "average, temperature, distance.\"\"\"\n",
    "text = \"\"\"Interesting facts about the Moon. The Moon is Earth's only satellite. There are several interesting facts about the Moon and how it affects life here on Earth. \n",
    "On average, the Moon moves 4cm away from the Earth every year. This yearly drift is not significant enough to cause immediate effects on Earth. The highest \"\"\"\n",
    "claves = [\"average\", \"temperature\", \"distance\"]\n",
    "for declarado in claves:\n",
    "    for clave in claves:# Recorrera una por una\n",
    "        if clave in declarado:#Si se encuentra dentro declarado...\n",
    "            print(declarado.replace('C','Celsius'))#imprimelo cambiando C a Celsius:)\n",
    "            break #Se rompe el ciclo"
   ]
  },
  {
   "cell_type": "markdown",
   "metadata": {},
   "source": [
    "### Problema 2:\n",
    "En este ejercicio, se utilizan variables que contienen datos clave sobre la gravedad en varias lunas y luego se utilizan para dar formato e imprimir la información.\n",
    "\n",
    "El formato tiene que acomodar información sobre otras lunas, por lo que debe ser genérico.\n",
    "\n",
    "En lugar de reemplazar las variables en una cadena larga como parte de un párrafo, utiliza la información para presentarla en un formato tabular. El resultado debería verse así:\n",
    "\n",
    "<p>Gravity Facts about Moon 🌚</p>\n",
    "<p> -------------------------------------------------------------------------------</p>\n",
    "<p>Planet Name: Earth</p>\n",
    "<p>Gravity on Ganymede: 1.6199999999999999 m/s2</p>"
   ]
  },
  {
   "cell_type": "markdown",
   "metadata": {},
   "source": [
    "#### Solucion: 🏴"
   ]
  },
  {
   "cell_type": "code",
   "execution_count": null,
   "metadata": {},
   "outputs": [],
   "source": [
    "#Informacion dada\n",
    "planeta = 'Moon '\n",
    "gravedad  = 0.00162\n",
    "nombre = 'Earth'\n",
    "\n",
    "#1.- Crear el titulo\n",
    "title = f'Gravity Facts about: {nombre}'\n",
    "\n",
    "\"\"\"\n",
    "2.- Ahora crea una plantilla de cadena multilínea para contener el resto de la información. \n",
    "    En lugar de usar kilómetros, debes convertir la distancia a metros multiplicando por 1,000.\n",
    "\"\"\"\n",
    "hechos = f\"\"\"{'-'*80} \n",
    "Planet name: {planeta} \n",
    "Gravity on  {nombre}: {gravedad * 1000} m/s2 \n",
    "\"\"\"\n",
    "\n",
    "#3.- Finalmente, usa ambas variables para unir el título y los hechos.\n",
    "\n",
    "template = f\"\"\"{title.title()} \n",
    "{hechos} \n",
    "\"\"\" \n",
    "print(template)"
   ]
  },
  {
   "cell_type": "markdown",
   "metadata": {},
   "source": [
    "##### Ahora...\n",
    "Usaremos otra plantilla para corroborar que lo que hiciste este bien:\n",
    "<p>Gravity Facts about Ganymede</p>\n",
    "<p> -------------------------------------------------------------------------------</p>\n",
    "<p>Planet Name: Mars</p>\n",
    "<p>Gravity on Ganymede: 1.4300000000000002 m/s2</p>"
   ]
  },
  {
   "cell_type": "code",
   "execution_count": 26,
   "metadata": {},
   "outputs": [
    {
     "name": "stdout",
     "output_type": "stream",
     "text": [
      "Gravity Facts About: Earth \n",
      "-------------------------------------------------------------------------------- \n",
      "Planet name: Moon  \n",
      "Gravity on  Earth: 1.6199999999999999 m/s2 \n",
      " \n",
      "\n"
     ]
    }
   ],
   "source": [
    "planeta = 'Mars '\n",
    "gravedad  = 0.00143\n",
    "nombre = 'Ganymede'\n",
    "\n",
    "print(template)"
   ]
  },
  {
   "cell_type": "markdown",
   "metadata": {},
   "source": [
    "La salida no muestra información sobre Marte.🤔 Todavía muestra información sobre la Luna.🌚Esto sucede porque las cadenas f están ansiosas en su evaluación, por lo que las variables una vez asignadas no se pueden reasignar. Para evitar este problema, vuelva a hacer la plantilla para utilizar .format():"
   ]
  },
  {
   "cell_type": "code",
   "execution_count": 30,
   "metadata": {},
   "outputs": [
    {
     "name": "stdout",
     "output_type": "stream",
     "text": [
      "\n",
      "Gravity facts about: Ganymede\n",
      "-------------------------------------------------------------------------------\n",
      "Planet name: Mars \n",
      "Gravity on  Ganymede: 1.4300000000000002 m/s2\n",
      "\n"
     ]
    }
   ],
   "source": [
    "template2 = \"\"\"\n",
    "Gravity facts about: {nombre}\n",
    "-------------------------------------------------------------------------------\n",
    "Planet name: {planeta}\n",
    "Gravity on  {nombre}: {gravedad} m/s2\n",
    "\"\"\" #Existe un error en la gravity\n",
    "#print(template2.format(nombre=nombre, planeta=planeta, gravedad=gravedad))\n",
    "# DEBIDO A QUE FORMAT NO RECIBE EXPRESIONES, ESTA MAL EL DATO DE GRAVEDAD, REALIZARLA Y ASEGURARSE QUE ESTE BIEN\n",
    "print(template2.format(nombre=nombre, planeta=planeta, gravedad=gravedad*1000))\n"
   ]
  },
  {
   "cell_type": "markdown",
   "metadata": {},
   "source": [
    "### Muy bien, ya se puede visulaizar la plantilla correctamente.✨👌"
   ]
  }
 ],
 "metadata": {
  "interpreter": {
   "hash": "eb14761e0068f033b352e530f1e06e7cf747d416fb2ca4c3be349f98ba7a5a83"
  },
  "kernelspec": {
   "display_name": "Python 3.10.0 64-bit",
   "language": "python",
   "name": "python3"
  },
  "language_info": {
   "codemirror_mode": {
    "name": "ipython",
    "version": 3
   },
   "file_extension": ".py",
   "mimetype": "text/x-python",
   "name": "python",
   "nbconvert_exporter": "python",
   "pygments_lexer": "ipython3",
   "version": "3.10.0"
  },
  "orig_nbformat": 4
 },
 "nbformat": 4,
 "nbformat_minor": 2
}
