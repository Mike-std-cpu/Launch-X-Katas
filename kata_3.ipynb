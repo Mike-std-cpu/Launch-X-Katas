{
 "cells": [
  {
   "cell_type": "markdown",
   "metadata": {},
   "source": [
    "## Kata del modulo 3🐍"
   ]
  },
  {
   "cell_type": "markdown",
   "metadata": {},
   "source": [
    "### Problema 1:\n",
    "Para este ejercicio, escribirás una lógica condicional que imprima una advertencia si un asteroide se acerca a la Tierra demasiado rápido. La velocidad del asteroide varía dependiendo de lo cerca que esté del sol, y cualquier velocidad superior a 25 kilómetros por segundo (km/s) merece una advertencia.\n",
    "\n",
    "Un asteroide se acerca, y viaja a una velocidad de 49 km/s."
   ]
  },
  {
   "cell_type": "code",
   "execution_count": 8,
   "metadata": {},
   "outputs": [
    {
     "name": "stdout",
     "output_type": "stream",
     "text": [
      "!ADVERTENCIA¡ Se hacerca un asteroide de velocidad de 24 km/s\n"
     ]
    }
   ],
   "source": [
    "asteroide = 49 # Esta es la veloidad que real del asteroide\n",
    "estandar = 25 # Este es la velocidad que merece una adverrtencia\n",
    "\n",
    "if  asteroide >= estandar:\n",
    "    print(\"!ADVERTENCIA¡ Se hacerca un asteroide de velocidad de \" + str(a) + \" km/s\") # Si la variable a es mayor o igual a b, se imprimira el siguiente bloque\n",
    "else:\n",
    "    print(\"No se ha detectado ningun asteroide.\") # Retorno falso, imprimira el bloque else"
   ]
  },
  {
   "cell_type": "markdown",
   "metadata": {},
   "source": [
    "### Problema 2:\n",
    "Si un asteroide entra en la atmósfera de la Tierra a una velocidad mayor o igual a 20 km/s, a veces produce un rayo de luz que se puede ver desde la Tierra. Escribe la lógica condicional que usa declaraciones if, else, y elif para alertar a las personas de todo el mundo que deben buscar un asteroide en el cielo. ¡Hay uno que se dirige a la tierra ahora a una velocidad de 19 km/s!"
   ]
  },
  {
   "cell_type": "code",
   "execution_count": 10,
   "metadata": {},
   "outputs": [
    {
     "name": "stdout",
     "output_type": "stream",
     "text": [
      "No se observa nada\n"
     ]
    }
   ],
   "source": [
    "asteroide = 19\n",
    "estandarLuz = 20\n",
    "\n",
    "if asteroide > estandarLuz:\n",
    "    print(\"!ADVERTENCIA¡ Se hacerca un asteroide con luz, con una velocidad de \" + str(asteroide) + \" km/s\")\n",
    "elif asteroide == estandarLuz:\n",
    "    print(\"!ADVERTENCIA¡ Se hacerca un asteroide con luz, con una velocidad de \" + str(asteroide) + \" km/s\") #Tambien se podria hacer una condicional unica de >=\n",
    "else:\n",
    "    print(\"No se observa nada\")"
   ]
  },
  {
   "cell_type": "markdown",
   "metadata": {},
   "source": [
    "### Problema 3:"
   ]
  }
 ],
 "metadata": {
  "interpreter": {
   "hash": "eb14761e0068f033b352e530f1e06e7cf747d416fb2ca4c3be349f98ba7a5a83"
  },
  "kernelspec": {
   "display_name": "Python 3.10.0 64-bit",
   "language": "python",
   "name": "python3"
  },
  "language_info": {
   "name": "python",
   "version": "3.10.0"
  },
  "orig_nbformat": 4
 },
 "nbformat": 4,
 "nbformat_minor": 2
}
