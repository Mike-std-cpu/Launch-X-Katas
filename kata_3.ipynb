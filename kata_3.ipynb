{
 "cells": [
  {
   "cell_type": "markdown",
   "metadata": {},
   "source": [
    "## Kata del modulo 3🐍"
   ]
  },
  {
   "cell_type": "markdown",
   "metadata": {},
   "source": [
    "### Problema 1:\n",
    "Para este ejercicio, escribirás una lógica condicional que imprima una advertencia si un asteroide se acerca a la Tierra demasiado rápido. La velocidad del asteroide varía dependiendo de lo cerca que esté del sol, y cualquier velocidad superior a 25 kilómetros por segundo (km/s) merece una advertencia.\n",
    "\n",
    "Un asteroide se acerca, y viaja a una velocidad de 49 km/s."
   ]
  },
  {
   "cell_type": "code",
   "execution_count": 8,
   "metadata": {},
   "outputs": [
    {
     "name": "stdout",
     "output_type": "stream",
     "text": [
      "!ADVERTENCIA¡ Se hacerca un asteroide de velocidad de 24 km/s\n"
     ]
    }
   ],
   "source": [
    "asteroide = 49 # Esta es la veloidad que real del asteroide\n",
    "estandar = 25 # Este es la velocidad que merece una adverrtencia\n",
    "\n",
    "if  asteroide >= estandar:\n",
    "    print(\"!ADVERTENCIA¡ Se hacerca un asteroide de velocidad de \" + str(a) + \" km/s\") # Si la variable a es mayor o igual a b, se imprimira el siguiente bloque\n",
    "else:\n",
    "    print(\"No se ha detectado ningun asteroide.\") # Retorno falso, imprimira el bloque else"
   ]
  },
  {
   "cell_type": "markdown",
   "metadata": {},
   "source": [
    "### Problema 2:\n",
    "Si un asteroide entra en la atmósfera de la Tierra a una velocidad mayor o igual a 20 km/s, a veces produce un rayo de luz que se puede ver desde la Tierra. Escribe la lógica condicional que usa declaraciones if, else, y elif para alertar a las personas de todo el mundo que deben buscar un asteroide en el cielo. ¡Hay uno que se dirige a la tierra ahora a una velocidad de 19 km/s!"
   ]
  },
  {
   "cell_type": "code",
   "execution_count": 10,
   "metadata": {},
   "outputs": [
    {
     "name": "stdout",
     "output_type": "stream",
     "text": [
      "No se observa nada\n"
     ]
    }
   ],
   "source": [
    "asteroide = 19\n",
    "estandarLuz = 20\n",
    "\n",
    "if asteroide > estandarLuz:\n",
    "    print(\"!ADVERTENCIA¡ Se hacerca un asteroide con luz, con una velocidad de \" + str(asteroide) + \" km/s\")\n",
    "elif asteroide == estandarLuz:\n",
    "    print(\"!ADVERTENCIA¡ Se hacerca un asteroide con luz, con una velocidad de \" + str(asteroide) + \" km/s\") #Tambien se podria hacer una condicional unica de >=\n",
    "else:\n",
    "    print(\"No se observa ningun asteroide\")"
   ]
  },
  {
   "cell_type": "markdown",
   "metadata": {},
   "source": [
    "### Problema 3:\n",
    "En este ejercicio, aprenderás información más matizada sobre cuándo los asteroides representan un peligro para la Tierra, y utilizarás esa información para mejorar nuestro sistema de advertencia. Aquí está la nueva información que necesitas saber:\n",
    "\n",
    "- Los asteroides de menos de 25 metros en su dimensión más grande probablemente se quemarán a medida que entren en la atmósfera de la Tierra.\n",
    "\n",
    "- Si una pieza de un asteroide que es más grande que 25 metros pero más pequeña que 1000 metros golpeara la Tierra, causaría mucho daño.\n",
    "También discutimos en el ejercicio anterior que:\n",
    "\n",
    "La velocidad del asteroide varía en función de lo cerca que esté del sol, y cualquier velocidad superior a 25 kilómetros por segundo (km/s) merece una advertencia.\n",
    "Si un asteroide entra en la atmósfera de la Tierra a una velocidad mayor o igual a 20 km/s, a veces produce un rayo de luz que se puede ver desde la Tierra.\n",
    "Usando toda esta información, escribe un programa que emita la advertencia o información correcta a la gente de la Tierra, según la velocidad y el tamaño de un asteroide. Utiliza instrucciones if, else, y elif, así como los operadores and y or."
   ]
  },
  {
   "cell_type": "code",
   "execution_count": 25,
   "metadata": {},
   "outputs": [
    {
     "name": "stdout",
     "output_type": "stream",
     "text": [
      "!ADVERTENCIA¡ Un asteroide de velocidad de 25 k/s CAUSARA MUCHO DAÑO\n"
     ]
    }
   ],
   "source": [
    "vel_asteroide = 25\n",
    "size_asteroide = 999\n",
    "\n",
    "if vel_asteroide >= 25 and size_asteroide > 25: # Codiciones de advertencia y de tamaño de entre 25 y 1000\n",
    "    print(\"!ADVERTENCIA¡ Un asteroide de velocidad de \" + str(vel_asteroide) + \" k/s CAUSARA MUCHO DAÑO\")\n",
    "elif vel_asteroide >= 20: # Condicion de estela de luz\n",
    "    print(\"Es un asteroide con LUZ\")\n",
    "elif size_asteroide < 25:\n",
    "    print(\"No se observa ningun asteroide\")\n",
    "else:\n",
    "    print(\"No se observa ningun asteroide\")\n",
    "\n"
   ]
  }
 ],
 "metadata": {
  "interpreter": {
   "hash": "eb14761e0068f033b352e530f1e06e7cf747d416fb2ca4c3be349f98ba7a5a83"
  },
  "kernelspec": {
   "display_name": "Python 3.10.0 64-bit",
   "language": "python",
   "name": "python3"
  },
  "language_info": {
   "name": "python",
   "version": "3.10.0"
  },
  "orig_nbformat": 4
 },
 "nbformat": 4,
 "nbformat_minor": 2
}
